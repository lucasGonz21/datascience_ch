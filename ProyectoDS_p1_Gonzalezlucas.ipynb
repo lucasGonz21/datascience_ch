{
 "cells": [
  {
   "cell_type": "code",
   "execution_count": null,
   "id": "87a39e50",
   "metadata": {},
   "outputs": [],
   "source": [
    "import pandas as pd\n",
    "import matplotlib.pyplot as plt\n",
    "import seaborn as sns\n",
    "\n",
    "df = pd.read_csv('day.csv')\n",
    "\n",
    "df.head()\n"
   ]
  },
  {
   "cell_type": "code",
   "execution_count": null,
   "id": "2f4b28b1",
   "metadata": {},
   "outputs": [],
   "source": [
    "\n",
    "# Gráfico de dispersión entre temperatura y bicicletas alquiladas\n",
    "plt.figure(figsize=(8, 6))\n",
    "plt.scatter(df['temp'], df['cnt'], alpha=0.5)\n",
    "plt.title('Relación entre temperatura y bicicletas alquiladas')\n",
    "plt.xlabel('Temperatura Normalizada')\n",
    "plt.ylabel('Cantidad de bicicletas alquiladas')\n",
    "plt.grid(True)\n",
    "plt.show()\n"
   ]
  },
  {
   "cell_type": "code",
   "execution_count": null,
   "id": "eaa59839",
   "metadata": {},
   "outputs": [],
   "source": [
    "\n",
    "# Histograma de la distribución de la cantidad de bicicletas alquiladas\n",
    "plt.figure(figsize=(8, 6))\n",
    "plt.hist(df['cnt'], bins=30, color='blue', edgecolor='black')\n",
    "plt.title('Distribución de la cantidad de bicicletas alquiladas')\n",
    "plt.xlabel('Cantidad de bicicletas alquiladas')\n",
    "plt.ylabel('Frecuencia')\n",
    "plt.show()\n"
   ]
  },
  {
   "cell_type": "code",
   "execution_count": null,
   "id": "e8945aee",
   "metadata": {},
   "outputs": [],
   "source": [
    "\n",
    "# Gráfico de líneas del número de bicicletas alquiladas a lo largo del tiempo\n",
    "plt.figure(figsize=(10, 6))\n",
    "plt.plot(df['dteday'], df['cnt'], color='green')\n",
    "plt.title('Cantidad de bicicletas alquiladas a lo largo del tiempo')\n",
    "plt.xlabel('Fecha')\n",
    "plt.ylabel('Cantidad de bicicletas alquiladas')\n",
    "plt.xticks(rotation=45)\n",
    "plt.grid(True)\n",
    "plt.show()\n"
   ]
  },
  {
   "cell_type": "code",
   "execution_count": null,
   "id": "6229f273",
   "metadata": {},
   "outputs": [],
   "source": [
    "\n",
    "# Gráfico de violín de bicicletas alquiladas por estación\n",
    "plt.figure(figsize=(8, 6))\n",
    "sns.violinplot(x='season', y='cnt', data=df, palette='coolwarm')\n",
    "plt.title('Distribución de bicicletas alquiladas por estación')\n",
    "plt.xlabel('Estación')\n",
    "plt.ylabel('Cantidad de bicicletas alquiladas')\n",
    "plt.show()\n"
   ]
  },
  {
   "cell_type": "code",
   "execution_count": null,
   "id": "c05dc22c",
   "metadata": {},
   "outputs": [],
   "source": [
    "\n",
    "# Mapa de calor de la correlación entre variables (solo columnas numéricas)\n",
    "plt.figure(figsize=(10, 8))\n",
    "numeric_columns = df.select_dtypes(include=['float64', 'int64']).columns  # Seleccionar solo columnas numéricas\n",
    "correlation_matrix = df[numeric_columns].corr()\n",
    "sns.heatmap(correlation_matrix, annot=True, cmap='coolwarm', linewidths=0.5)\n",
    "plt.title('Mapa de calor de correlación entre variables numéricas')\n",
    "plt.show()\n"
   ]
  },
  {
   "cell_type": "code",
   "execution_count": null,
   "id": "20aad561",
   "metadata": {},
   "outputs": [],
   "source": [
    "\n",
    "# Gráfico de barras de la cantidad promedio de bicicletas alquiladas por día de la semana\n",
    "plt.figure(figsize=(8, 6))\n",
    "sns.barplot(x='weekday', y='cnt', data=df, palette='viridis')\n",
    "plt.title('Cantidad promedio de bicicletas alquiladas por día de la semana')\n",
    "plt.xlabel('Día de la semana')\n",
    "plt.ylabel('Cantidad promedio de bicicletas alquiladas')\n",
    "plt.show()\n"
   ]
  },
  {
   "cell_type": "markdown",
   "id": "466aaf05",
   "metadata": {},
   "source": [
    "\n",
    "# Preguntas o hipótesis de interés sobre el dataset\n",
    "\n",
    "1. **¿Cómo afecta la temperatura y la humedad al número de bicicletas alquiladas?**\n",
    "   - Hipótesis: A medida que la temperatura aumenta, el número de bicicletas alquiladas también aumenta, pero la humedad podría reducir el número de bicicletas alquiladas.\n",
    "   \n",
    "2. **¿Existen diferencias significativas en el número de bicicletas alquiladas según la estación del año?**\n",
    "   - Hipótesis: Las estaciones con temperaturas más agradables (primavera y verano) tendrán más bicicletas alquiladas que las estaciones frías (invierno y otoño).\n",
    "   \n",
    "3. **¿El número de bicicletas alquiladas varía significativamente según el día de la semana?**\n",
    "   - Hipótesis: Los fines de semana se alquilan más bicicletas que entre semana, debido a la mayor disponibilidad de tiempo libre.\n"
   ]
  },
  {
   "cell_type": "code",
   "execution_count": null,
   "id": "d4444b6a",
   "metadata": {},
   "outputs": [],
   "source": [
    "\n",
    "# Identificar valores perdidos en el dataset\n",
    "missing_values = df.isnull().sum()\n",
    "missing_values\n"
   ]
  },
  {
   "cell_type": "code",
   "execution_count": null,
   "id": "53f8e42a",
   "metadata": {},
   "outputs": [],
   "source": [
    "\n",
    "# Gráfico que relaciona temperatura, humedad y cantidad de bicicletas alquiladas\n",
    "plt.figure(figsize=(10, 6))\n",
    "sns.scatterplot(x='temp', y='cnt', size='hum', hue='season', data=df, palette='coolwarm', sizes=(20, 200), alpha=0.7)\n",
    "plt.title('Relación entre temperatura, humedad y bicicletas alquiladas según la estación')\n",
    "plt.xlabel('Temperatura Normalizada')\n",
    "plt.ylabel('Cantidad de bicicletas alquiladas')\n",
    "plt.legend(title='Estación', loc='upper left')\n",
    "plt.grid(True)\n",
    "plt.show()\n"
   ]
  },
  {
   "cell_type": "markdown",
   "id": "91c763f8",
   "metadata": {},
   "source": [
    "\n",
    "# Diagnóstico de los gráficos\n",
    "\n",
    "El gráfico de dispersión muestra cómo interactúan la temperatura, la humedad y el número de bicicletas alquiladas según la estación del año. A medida que la temperatura aumenta, parece que también lo hace el número de bicicletas alquiladas, especialmente en primavera y verano. La humedad, representada por el tamaño de los puntos, no parece tener un impacto tan claro.\n",
    "\n",
    "- **Temperatura**: Aumenta la cantidad de bicicletas alquiladas conforme sube la temperatura, lo cual apoya la hipótesis de que el clima cálido promueve el uso de bicicletas.\n",
    "- **Humedad**: No parece tener un impacto directo y fuerte en la cantidad de bicicletas alquiladas, pero podría influir ligeramente en ciertos días con alta humedad.\n",
    "- **Estaciones**: Primavera y verano muestran una tendencia más alta de uso de bicicletas en comparación con invierno y otoño, lo cual está alineado con la hipótesis.\n",
    "\n",
    "Se puede concluir que las estaciones del año y la temperatura tienen un impacto significativo en la demanda de bicicletas.\n"
   ]
  }
 ],
 "metadata": {
  "language_info": {
   "name": "python"
  }
 },
 "nbformat": 4,
 "nbformat_minor": 5
}
